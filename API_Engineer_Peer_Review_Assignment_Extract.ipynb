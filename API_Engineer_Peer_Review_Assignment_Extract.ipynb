{
 "cells": [
  {
   "cell_type": "markdown",
   "metadata": {},
   "source": [
    "<center>\n",
    "    <img src=\"https://gitlab.com/ibm/skills-network/courses/placeholder101/-/raw/master/labs/module%201/images/IDSNlogo.png\" width=\"300\" alt=\"cognitiveclass.ai logo\"  />\n",
    "</center>\n"
   ]
  },
  {
   "cell_type": "markdown",
   "metadata": {},
   "source": [
    "# Peer Review Assignment - Data Engineer - Extract API Data\n"
   ]
  },
  {
   "cell_type": "markdown",
   "metadata": {},
   "source": [
    "Estimated time needed: **20** minutes\n"
   ]
  },
  {
   "cell_type": "markdown",
   "metadata": {},
   "source": [
    "## Objectives\n",
    "\n",
    "In this part you will:\n",
    "\n",
    "-   Collect exchange rate data using an API\n",
    "-   Store the data as a CSV\n"
   ]
  },
  {
   "cell_type": "markdown",
   "metadata": {},
   "source": [
    "For this lab, we are going to be using Python and several Python libraries. Some of these libraries might be installed in your lab environment or in SN Labs. Others may need to be installed by you. The cells below will install these libraries when executed.\n"
   ]
  },
  {
   "cell_type": "code",
   "execution_count": 1,
   "metadata": {},
   "outputs": [],
   "source": [
    "#!pip install pandas\n",
    "#!pip install requests"
   ]
  },
  {
   "cell_type": "markdown",
   "metadata": {},
   "source": [
    "## Imports\n",
    "\n",
    "Import any additional libraries you may need here.\n"
   ]
  },
  {
   "cell_type": "code",
   "execution_count": 2,
   "metadata": {},
   "outputs": [],
   "source": [
    "import requests\n",
    "import pandas as pd"
   ]
  },
  {
   "cell_type": "markdown",
   "metadata": {},
   "source": [
    "## Extract Data Using an API\n"
   ]
  },
  {
   "cell_type": "markdown",
   "metadata": {},
   "source": [
    "Using ExchangeRate-API we will extract currency exchange rate data. Use the below steps to get the access key and to get the data. \n",
    "\n",
    "1.  Open the url : [https://api.exchangeratesapi.io/](https://api.exchangeratesapi.io?cm_mmc=Email_Newsletter-_-Developer_Ed%2BTech-_-WW_WW-_-SkillsNetwork-Courses-IBMDeveloperSkillsNetwork-PY0221EN-SkillsNetwork-23455645&cm_mmca1=000026UJ&cm_mmca2=10006555&cm_mmca3=M12345678&cvosrc=email.Newsletter.M12345678&cvo_campaign=000026UJ&cm_mmc=Email_Newsletter-_-Developer_Ed%2BTech-_-WW_WW-_-SkillsNetwork-Courses-IBMDeveloperSkillsNetwork-PY0221EN-SkillsNetwork-23455645&cm_mmca1=000026UJ&cm_mmca2=10006555&cm_mmca3=M12345678&cvosrc=email.Newsletter.M12345678&cvo_campaign=000026UJ) and create a free account. \n",
    "2.  Once the account is created. You will get the Get the Free API key option on the top as shown below:\n",
    "\n",
    "<img src=\"https://cf-courses-data.s3.us.cloud-object-storage.appdomain.cloud/IBMDeveloperSkillsNetwork-PY0221EN-SkillsNetwork/labs/module%206/Final%20Assignment/Images/getapi.png\"/>\n",
    "\n",
    "3.  Copy the API key and use in the url in Question 1.\n"
   ]
  },
  {
   "cell_type": "markdown",
   "metadata": {},
   "source": [
    "### Call the API\n",
    "\n",
    " <b> Question 1</b> Using the `requests` library call the endpoint given above and save the text, remember the first few characters of the output: \n"
   ]
  },
  {
   "cell_type": "code",
   "execution_count": 52,
   "metadata": {},
   "outputs": [
    {
     "data": {
      "text/plain": [
       "{'success': True,\n",
       " 'timestamp': 1621716124,\n",
       " 'base': 'EUR',\n",
       " 'date': '2021-05-22',\n",
       " 'rates': {'AED': 4.4743,\n",
       "  'AFN': 94.531362,\n",
       "  'ALL': 123.157296,\n",
       "  'AMD': 634.083278,\n",
       "  'ANG': 2.186918,\n",
       "  'AOA': 789.958911,\n",
       "  'ARS': 114.7463,\n",
       "  'AUD': 1.575433,\n",
       "  'AWG': 2.193234,\n",
       "  'AZN': 2.075648,\n",
       "  'BAM': 1.950139,\n",
       "  'BBD': 2.460021,\n",
       "  'BDT': 103.337662,\n",
       "  'BGN': 1.956088,\n",
       "  'BHD': 0.4592,\n",
       "  'BIF': 2400.924373,\n",
       "  'BMD': 1.218125,\n",
       "  'BND': 1.620531,\n",
       "  'BOB': 8.412955,\n",
       "  'BRL': 6.537317,\n",
       "  'BSD': 1.218344,\n",
       "  'BTC': 3.2048149e-05,\n",
       "  'BTN': 88.650564,\n",
       "  'BWP': 12.989312,\n",
       "  'BYN': 3.053688,\n",
       "  'BYR': 23875.24998,\n",
       "  'BZD': 2.455833,\n",
       "  'CAD': 1.469778,\n",
       "  'CDF': 2438.686689,\n",
       "  'CHF': 1.093894,\n",
       "  'CLF': 0.031829,\n",
       "  'CLP': 878.268564,\n",
       "  'CNY': 7.837665,\n",
       "  'COP': 4564.314371,\n",
       "  'CRC': 752.713266,\n",
       "  'CUC': 1.218125,\n",
       "  'CUP': 32.280312,\n",
       "  'CVE': 110.697159,\n",
       "  'CZK': 25.453758,\n",
       "  'DJF': 216.485654,\n",
       "  'DKK': 7.436148,\n",
       "  'DOP': 69.421423,\n",
       "  'DZD': 162.154,\n",
       "  'EGP': 19.075,\n",
       "  'ERN': 18.274299,\n",
       "  'ETB': 52.245859,\n",
       "  'EUR': 1,\n",
       "  'FJD': 2.479498,\n",
       "  'FKP': 0.866714,\n",
       "  'GBP': 0.860835,\n",
       "  'GEL': 4.025952,\n",
       "  'GGP': 0.866714,\n",
       "  'GHS': 7.046902,\n",
       "  'GIP': 0.866714,\n",
       "  'GMD': 62.386321,\n",
       "  'GNF': 12022.894173,\n",
       "  'GTQ': 9.403257,\n",
       "  'GYD': 254.896106,\n",
       "  'HKD': 9.45734,\n",
       "  'HNL': 29.369467,\n",
       "  'HRK': 7.509989,\n",
       "  'HTG': 107.520211,\n",
       "  'HUF': 348.566941,\n",
       "  'IDR': 17501.654548,\n",
       "  'ILS': 3.965996,\n",
       "  'IMP': 0.866714,\n",
       "  'INR': 88.814108,\n",
       "  'IQD': 1780.898749,\n",
       "  'IRR': 51289.153511,\n",
       "  'ISK': 148.928433,\n",
       "  'JEP': 0.866714,\n",
       "  'JMD': 182.295475,\n",
       "  'JOD': 0.863699,\n",
       "  'JPY': 132.684314,\n",
       "  'KES': 131.805758,\n",
       "  'KGS': 102.055492,\n",
       "  'KHR': 4963.859798,\n",
       "  'KMF': 492.122926,\n",
       "  'KPW': 1096.312642,\n",
       "  'KRW': 1373.78966,\n",
       "  'KWD': 0.366108,\n",
       "  'KYD': 1.015362,\n",
       "  'KZT': 522.255838,\n",
       "  'LAK': 11499.100416,\n",
       "  'LBP': 1860.077298,\n",
       "  'LKR': 240.022724,\n",
       "  'LRD': 209.060751,\n",
       "  'LSL': 16.993309,\n",
       "  'LTL': 3.596807,\n",
       "  'LVL': 0.736832,\n",
       "  'LYD': 5.433301,\n",
       "  'MAD': 10.74204,\n",
       "  'MDL': 21.5528,\n",
       "  'MGA': 4577.714169,\n",
       "  'MKD': 61.37592,\n",
       "  'MMK': 2005.468789,\n",
       "  'MNT': 3472.768512,\n",
       "  'MOP': 9.744123,\n",
       "  'MRO': 434.870415,\n",
       "  'MUR': 49.582247,\n",
       "  'MVR': 18.763682,\n",
       "  'MWK': 962.31917,\n",
       "  'MXN': 24.306528,\n",
       "  'MYR': 5.044303,\n",
       "  'MZN': 72.726608,\n",
       "  'NAD': 16.993303,\n",
       "  'NGN': 502.481102,\n",
       "  'NIO': 42.981588,\n",
       "  'NOK': 10.189799,\n",
       "  'NPR': 141.840543,\n",
       "  'NZD': 1.690163,\n",
       "  'OMR': 0.46896,\n",
       "  'PAB': 1.218344,\n",
       "  'PEN': 4.555183,\n",
       "  'PGK': 4.300438,\n",
       "  'PHP': 58.373007,\n",
       "  'PKR': 186.921737,\n",
       "  'PLN': 4.497336,\n",
       "  'PYG': 8181.723789,\n",
       "  'QAR': 4.43524,\n",
       "  'RON': 4.927929,\n",
       "  'RSD': 117.237851,\n",
       "  'RUB': 89.681534,\n",
       "  'RWF': 1212.034374,\n",
       "  'SAR': 4.568057,\n",
       "  'SBD': 9.702385,\n",
       "  'SCR': 20.001,\n",
       "  'SDG': 502.481042,\n",
       "  'SEK': 10.147475,\n",
       "  'SGD': 1.621562,\n",
       "  'SHP': 0.866714,\n",
       "  'SLL': 12473.600402,\n",
       "  'SOS': 712.603537,\n",
       "  'SRD': 17.241388,\n",
       "  'STD': 25258.777483,\n",
       "  'SVC': 10.660887,\n",
       "  'SYP': 1531.835147,\n",
       "  'SZL': 17.005475,\n",
       "  'THB': 38.20085,\n",
       "  'TJS': 13.895348,\n",
       "  'TMT': 4.275619,\n",
       "  'TND': 3.313914,\n",
       "  'TOP': 2.739609,\n",
       "  'TRY': 10.253816,\n",
       "  'TTD': 8.26807,\n",
       "  'TWD': 34.064018,\n",
       "  'TZS': 2825.443417,\n",
       "  'UAH': 33.414682,\n",
       "  'UGX': 4343.424062,\n",
       "  'USD': 1.218125,\n",
       "  'UYU': 53.810284,\n",
       "  'UZS': 12893.853522,\n",
       "  'VEF': 260471939367.07785,\n",
       "  'VND': 28085.089976,\n",
       "  'VUV': 132.05354,\n",
       "  'WST': 3.064741,\n",
       "  'XAF': 654.042859,\n",
       "  'XAG': 0.044205,\n",
       "  'XAU': 0.000648,\n",
       "  'XCD': 3.292044,\n",
       "  'XDR': 0.844528,\n",
       "  'XOF': 654.133529,\n",
       "  'XPF': 119.867885,\n",
       "  'YER': 304.592599,\n",
       "  'ZAR': 17.003825,\n",
       "  'ZMK': 10964.591118,\n",
       "  'ZMW': 27.382586,\n",
       "  'ZWL': 392.236621}}"
      ]
     },
     "execution_count": 52,
     "metadata": {},
     "output_type": "execute_result"
    }
   ],
   "source": [
    "# Write your code here\n",
    "url = \"http://data.fixer.io/api/latest?access_key=d25d46121fe71dceba82e9af87985707\"  #Make sure to change ******* to your API key.\n",
    "data=requests.get(url)\n",
    "dataj=data.json()\n",
    "dataj"
   ]
  },
  {
   "cell_type": "markdown",
   "metadata": {},
   "source": [
    "### Save as DataFrame\n",
    "\n",
    " <b> Question 2</b>  Using the data gathered turn it into a `pandas` dataframe. The dataframe should have the Currency as the index and `Rate` as their columns. Make sure to drop unnecessary columns.\n"
   ]
  },
  {
   "cell_type": "code",
   "execution_count": 85,
   "metadata": {},
   "outputs": [
    {
     "data": {
      "text/html": [
       "<div>\n",
       "<style scoped>\n",
       "    .dataframe tbody tr th:only-of-type {\n",
       "        vertical-align: middle;\n",
       "    }\n",
       "\n",
       "    .dataframe tbody tr th {\n",
       "        vertical-align: top;\n",
       "    }\n",
       "\n",
       "    .dataframe thead th {\n",
       "        text-align: right;\n",
       "    }\n",
       "</style>\n",
       "<table border=\"1\" class=\"dataframe\">\n",
       "  <thead>\n",
       "    <tr style=\"text-align: right;\">\n",
       "      <th></th>\n",
       "      <th>success</th>\n",
       "      <th>timestamp</th>\n",
       "      <th>base</th>\n",
       "      <th>date</th>\n",
       "      <th>rates</th>\n",
       "    </tr>\n",
       "  </thead>\n",
       "  <tbody>\n",
       "    <tr>\n",
       "      <th>AED</th>\n",
       "      <td>True</td>\n",
       "      <td>1621716124</td>\n",
       "      <td>EUR</td>\n",
       "      <td>2021-05-22</td>\n",
       "      <td>4.474300</td>\n",
       "    </tr>\n",
       "    <tr>\n",
       "      <th>AFN</th>\n",
       "      <td>True</td>\n",
       "      <td>1621716124</td>\n",
       "      <td>EUR</td>\n",
       "      <td>2021-05-22</td>\n",
       "      <td>94.531362</td>\n",
       "    </tr>\n",
       "    <tr>\n",
       "      <th>ALL</th>\n",
       "      <td>True</td>\n",
       "      <td>1621716124</td>\n",
       "      <td>EUR</td>\n",
       "      <td>2021-05-22</td>\n",
       "      <td>123.157296</td>\n",
       "    </tr>\n",
       "    <tr>\n",
       "      <th>AMD</th>\n",
       "      <td>True</td>\n",
       "      <td>1621716124</td>\n",
       "      <td>EUR</td>\n",
       "      <td>2021-05-22</td>\n",
       "      <td>634.083278</td>\n",
       "    </tr>\n",
       "    <tr>\n",
       "      <th>ANG</th>\n",
       "      <td>True</td>\n",
       "      <td>1621716124</td>\n",
       "      <td>EUR</td>\n",
       "      <td>2021-05-22</td>\n",
       "      <td>2.186918</td>\n",
       "    </tr>\n",
       "    <tr>\n",
       "      <th>...</th>\n",
       "      <td>...</td>\n",
       "      <td>...</td>\n",
       "      <td>...</td>\n",
       "      <td>...</td>\n",
       "      <td>...</td>\n",
       "    </tr>\n",
       "    <tr>\n",
       "      <th>YER</th>\n",
       "      <td>True</td>\n",
       "      <td>1621716124</td>\n",
       "      <td>EUR</td>\n",
       "      <td>2021-05-22</td>\n",
       "      <td>304.592599</td>\n",
       "    </tr>\n",
       "    <tr>\n",
       "      <th>ZAR</th>\n",
       "      <td>True</td>\n",
       "      <td>1621716124</td>\n",
       "      <td>EUR</td>\n",
       "      <td>2021-05-22</td>\n",
       "      <td>17.003825</td>\n",
       "    </tr>\n",
       "    <tr>\n",
       "      <th>ZMK</th>\n",
       "      <td>True</td>\n",
       "      <td>1621716124</td>\n",
       "      <td>EUR</td>\n",
       "      <td>2021-05-22</td>\n",
       "      <td>10964.591118</td>\n",
       "    </tr>\n",
       "    <tr>\n",
       "      <th>ZMW</th>\n",
       "      <td>True</td>\n",
       "      <td>1621716124</td>\n",
       "      <td>EUR</td>\n",
       "      <td>2021-05-22</td>\n",
       "      <td>27.382586</td>\n",
       "    </tr>\n",
       "    <tr>\n",
       "      <th>ZWL</th>\n",
       "      <td>True</td>\n",
       "      <td>1621716124</td>\n",
       "      <td>EUR</td>\n",
       "      <td>2021-05-22</td>\n",
       "      <td>392.236621</td>\n",
       "    </tr>\n",
       "  </tbody>\n",
       "</table>\n",
       "<p>168 rows × 5 columns</p>\n",
       "</div>"
      ],
      "text/plain": [
       "     success   timestamp base        date         rates\n",
       "AED     True  1621716124  EUR  2021-05-22      4.474300\n",
       "AFN     True  1621716124  EUR  2021-05-22     94.531362\n",
       "ALL     True  1621716124  EUR  2021-05-22    123.157296\n",
       "AMD     True  1621716124  EUR  2021-05-22    634.083278\n",
       "ANG     True  1621716124  EUR  2021-05-22      2.186918\n",
       "..       ...         ...  ...         ...           ...\n",
       "YER     True  1621716124  EUR  2021-05-22    304.592599\n",
       "ZAR     True  1621716124  EUR  2021-05-22     17.003825\n",
       "ZMK     True  1621716124  EUR  2021-05-22  10964.591118\n",
       "ZMW     True  1621716124  EUR  2021-05-22     27.382586\n",
       "ZWL     True  1621716124  EUR  2021-05-22    392.236621\n",
       "\n",
       "[168 rows x 5 columns]"
      ]
     },
     "execution_count": 85,
     "metadata": {},
     "output_type": "execute_result"
    }
   ],
   "source": [
    "# Turn the data into a dataframe\n",
    "df=pd.DataFrame(dataj)\n",
    "df"
   ]
  },
  {
   "cell_type": "code",
   "execution_count": 87,
   "metadata": {},
   "outputs": [
    {
     "data": {
      "text/html": [
       "<div>\n",
       "<style scoped>\n",
       "    .dataframe tbody tr th:only-of-type {\n",
       "        vertical-align: middle;\n",
       "    }\n",
       "\n",
       "    .dataframe tbody tr th {\n",
       "        vertical-align: top;\n",
       "    }\n",
       "\n",
       "    .dataframe thead th {\n",
       "        text-align: right;\n",
       "    }\n",
       "</style>\n",
       "<table border=\"1\" class=\"dataframe\">\n",
       "  <thead>\n",
       "    <tr style=\"text-align: right;\">\n",
       "      <th></th>\n",
       "      <th>rates</th>\n",
       "    </tr>\n",
       "  </thead>\n",
       "  <tbody>\n",
       "    <tr>\n",
       "      <th>AED</th>\n",
       "      <td>4.474300</td>\n",
       "    </tr>\n",
       "    <tr>\n",
       "      <th>AFN</th>\n",
       "      <td>94.531362</td>\n",
       "    </tr>\n",
       "    <tr>\n",
       "      <th>ALL</th>\n",
       "      <td>123.157296</td>\n",
       "    </tr>\n",
       "    <tr>\n",
       "      <th>AMD</th>\n",
       "      <td>634.083278</td>\n",
       "    </tr>\n",
       "    <tr>\n",
       "      <th>ANG</th>\n",
       "      <td>2.186918</td>\n",
       "    </tr>\n",
       "    <tr>\n",
       "      <th>...</th>\n",
       "      <td>...</td>\n",
       "    </tr>\n",
       "    <tr>\n",
       "      <th>YER</th>\n",
       "      <td>304.592599</td>\n",
       "    </tr>\n",
       "    <tr>\n",
       "      <th>ZAR</th>\n",
       "      <td>17.003825</td>\n",
       "    </tr>\n",
       "    <tr>\n",
       "      <th>ZMK</th>\n",
       "      <td>10964.591118</td>\n",
       "    </tr>\n",
       "    <tr>\n",
       "      <th>ZMW</th>\n",
       "      <td>27.382586</td>\n",
       "    </tr>\n",
       "    <tr>\n",
       "      <th>ZWL</th>\n",
       "      <td>392.236621</td>\n",
       "    </tr>\n",
       "  </tbody>\n",
       "</table>\n",
       "<p>168 rows × 1 columns</p>\n",
       "</div>"
      ],
      "text/plain": [
       "            rates\n",
       "AED      4.474300\n",
       "AFN     94.531362\n",
       "ALL    123.157296\n",
       "AMD    634.083278\n",
       "ANG      2.186918\n",
       "..            ...\n",
       "YER    304.592599\n",
       "ZAR     17.003825\n",
       "ZMK  10964.591118\n",
       "ZMW     27.382586\n",
       "ZWL    392.236621\n",
       "\n",
       "[168 rows x 1 columns]"
      ]
     },
     "execution_count": 87,
     "metadata": {},
     "output_type": "execute_result"
    }
   ],
   "source": [
    "# Drop unnescessary columns\n",
    "df2=df[['rates']]\n",
    "df2"
   ]
  },
  {
   "cell_type": "markdown",
   "metadata": {},
   "source": [
    "### Load the Data\n",
    "\n",
    "Using the dataframe save it as a CSV names `exchange_rates_1.csv`.\n"
   ]
  },
  {
   "cell_type": "code",
   "execution_count": 89,
   "metadata": {},
   "outputs": [],
   "source": [
    "# Save the Dataframe\n",
    "df2.to_csv(\"exchange_rates_1.csv\",index=True)"
   ]
  },
  {
   "cell_type": "markdown",
   "metadata": {},
   "source": [
    "Your CSV should be in this format with more currencies\n",
    "\n",
    "|     | Rates      |\n",
    "| --- | ---------- |\n",
    "| AED | 4.398618   |\n",
    "| AFN | 92.917693  |\n",
    "| ALL | 123.099093 |\n",
    "| AMD | 621.935674 |\n",
    "| ANG | 2.149648   |\n"
   ]
  },
  {
   "cell_type": "markdown",
   "metadata": {},
   "source": [
    "## Authors\n"
   ]
  },
  {
   "cell_type": "markdown",
   "metadata": {},
   "source": [
    "Ramesh Sannareddy, Joseph Santarcangelo and Azim Hirjani\n"
   ]
  },
  {
   "cell_type": "markdown",
   "metadata": {},
   "source": [
    "### Other Contributors\n"
   ]
  },
  {
   "cell_type": "markdown",
   "metadata": {},
   "source": [
    "Rav Ahuja\n"
   ]
  },
  {
   "cell_type": "markdown",
   "metadata": {},
   "source": [
    "## Change Log\n"
   ]
  },
  {
   "cell_type": "markdown",
   "metadata": {},
   "source": [
    "| Date (YYYY-MM-DD) | Version | Changed By        | Change Description                 |\n",
    "| ----------------- | ------- | ----------------- | ---------------------------------- |\n",
    "| 2021-04-15        | 0.2     | Malika            | Updated the lab from USD to EUR    |\n",
    "| 2020-11-25        | 0.1     | Ramesh Sannareddy | Created initial version of the lab |\n"
   ]
  },
  {
   "cell_type": "markdown",
   "metadata": {},
   "source": [
    " Copyright © 2020 IBM Corporation. This notebook and its source code are released under the terms of the [MIT License](https://cognitiveclass.ai/mit-license?cm_mmc=Email_Newsletter-_-Developer_Ed%2BTech-_-WW_WW-_-SkillsNetwork-Courses-IBM-DA0321EN-SkillsNetwork-21426264&cm_mmca1=000026UJ&cm_mmca2=10006555&cm_mmca3=M12345678&cvosrc=email.Newsletter.M12345678&cvo_campaign=000026UJ&cm_mmc=Email_Newsletter-_-Developer_Ed%2BTech-_-WW_WW-_-SkillsNetwork-Courses-IBM-DA0321EN-SkillsNetwork-21426264&cm_mmca1=000026UJ&cm_mmca2=10006555&cm_mmca3=M12345678&cvosrc=email.Newsletter.M12345678&cvo_campaign=000026UJ&cm_mmc=Email_Newsletter-_-Developer_Ed%2BTech-_-WW_WW-_-SkillsNetwork-Courses-IBM-DA0321EN-SkillsNetwork-21426264&cm_mmca1=000026UJ&cm_mmca2=10006555&cm_mmca3=M12345678&cvosrc=email.Newsletter.M12345678&cvo_campaign=000026UJ&cm_mmc=Email_Newsletter-_-Developer_Ed%2BTech-_-WW_WW-_-SkillsNetwork-Courses-IBM-DA0321EN-SkillsNetwork-21426264&cm_mmca1=000026UJ&cm_mmca2=10006555&cm_mmca3=M12345678&cvosrc=email.Newsletter.M12345678&cvo_campaign=000026UJ&cm_mmc=Email_Newsletter-_-Developer_Ed%2BTech-_-WW_WW-_-SkillsNetwork-Courses-IBMDeveloperSkillsNetwork-PY0221EN-SkillsNetwork-23455645&cm_mmca1=000026UJ&cm_mmca2=10006555&cm_mmca3=M12345678&cvosrc=email.Newsletter.M12345678&cvo_campaign=000026UJ&cm_mmc=Email_Newsletter-_-Developer_Ed%2BTech-_-WW_WW-_-SkillsNetwork-Courses-IBMDeveloperSkillsNetwork-PY0221EN-SkillsNetwork-23455645&cm_mmca1=000026UJ&cm_mmca2=10006555&cm_mmca3=M12345678&cvosrc=email.Newsletter.M12345678&cvo_campaign=000026UJ).\n"
   ]
  }
 ],
 "metadata": {
  "kernelspec": {
   "display_name": "Python",
   "language": "python",
   "name": "conda-env-python-py"
  },
  "language_info": {
   "codemirror_mode": {
    "name": "ipython",
    "version": 3
   },
   "file_extension": ".py",
   "mimetype": "text/x-python",
   "name": "python",
   "nbconvert_exporter": "python",
   "pygments_lexer": "ipython3",
   "version": "3.6.13"
  }
 },
 "nbformat": 4,
 "nbformat_minor": 4
}
